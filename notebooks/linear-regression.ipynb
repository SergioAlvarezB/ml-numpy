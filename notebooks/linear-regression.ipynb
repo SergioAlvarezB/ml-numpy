{
 "cells": [
  {
   "cell_type": "markdown",
   "metadata": {},
   "source": [
    "# Linear Regression\n",
    "\n",
    "This notebook implements linear regression in numpy using the least squares method. Some fitness metrics are also discussed.\n",
    "\n",
    "Some imports:"
   ]
  },
  {
   "cell_type": "code",
   "execution_count": 1,
   "metadata": {},
   "outputs": [],
   "source": [
    "import matplotlib.pyplot as plt\n",
    "import numpy as np\n",
    "\n",
    "np.random.seed(1)"
   ]
  },
  {
   "cell_type": "code",
   "execution_count": 2,
   "metadata": {},
   "outputs": [],
   "source": [
    "%matplotlib inline"
   ]
  },
  {
   "cell_type": "markdown",
   "metadata": {},
   "source": [
    "## Simple linear regression: One variable\n",
    "\n",
    "Linear regression is a method that allows to predict the value of a quantitative respone Y on the basis of some predictor variables $\\{X_1, X_2, ..., X_n\\}$. This approach assumes a linear relationship between the response and the predictors. This takes the form:\n",
    "\n",
    "$$\n",
    "\\begin{equation}\n",
    "Y = \\beta_0 + \\beta_1X_1 + \\beta_2X_2 + ... + \\beta_nX_n,\n",
    "\\end{equation}\n",
    "$$\n",
    "\n",
    "where $\\beta_0, \\beta_1, ..., \\beta_n$ are unknown parameters. First, we implement a simple version where there is only one variable $X$. This leave us with 2 paremeters, the intercept($\\beta_0$) and the coefficient($\\beta_1$) of the function:\n",
    "$$\n",
    "\\begin{equation}\n",
    "Y = \\beta_0 + \\beta_1X\n",
    "\\end{equation}\n",
    "$$\n",
    "\n",
    "Based on a training set we produce the estimates $\\hat{\\beta_0}$ and $\\hat{\\beta_1}$ that fit the training data, we can later use them to predict future values of the response $Y$ for new values of $X$ as:\n",
    "$$\n",
    "\\begin{equation}\n",
    "\\hat{y} = \\hat{\\beta_0} + \\hat{\\beta_1}x_i\n",
    "\\end{equation}\n",
    "$$\n",
    "\n",
    "In this notation $\\hat{y}$ is the predicted value of $Y$ for $X = x_i$\n",
    "\n",
    "### Generate the data\n",
    "\n",
    "We are gonna try to interpolate the function $y = 5x + 2$\n",
    "\n",
    "We take randomly 20 points in the interval $[0, 5)$, this correspond to our set of training samples $X = \\{x_1, x_2, ..., x_{20}\\}$"
   ]
  },
  {
   "cell_type": "code",
   "execution_count": 3,
   "metadata": {},
   "outputs": [
    {
     "data": {
      "text/plain": [
       "array([2.08511002e+00, 3.60162247e+00, 5.71874087e-04, 1.51166286e+00,\n",
       "       7.33779454e-01, 4.61692974e-01, 9.31301057e-01, 1.72780364e+00,\n",
       "       1.98383737e+00, 2.69408367e+00, 2.09597257e+00, 3.42609750e+00,\n",
       "       1.02226125e+00, 4.39058718e+00, 1.36937966e-01, 3.35233755e+00,\n",
       "       2.08652401e+00, 2.79344914e+00, 7.01934693e-01, 9.90507445e-01])"
      ]
     },
     "execution_count": 3,
     "metadata": {},
     "output_type": "execute_result"
    }
   ],
   "source": [
    "sample_size = 20\n",
    "\n",
    "# Parameters to estimate\n",
    "beta0 = 2\n",
    "beta1 = 5\n",
    "\n",
    "# Standard deviation of the simulated irreducible error\n",
    "e = 2\n",
    "\n",
    "\n",
    "x = np.random.random_sample(sample_size)*5\n",
    "x"
   ]
  },
  {
   "cell_type": "markdown",
   "metadata": {},
   "source": [
    "We compute the dependent variable, $y_i$, mapping with the function and adding some random noise to the data.\n",
    "\n",
    "We are using zero mean and two standar deviation normal distributed noise."
   ]
  },
  {
   "cell_type": "code",
   "execution_count": 4,
   "metadata": {},
   "outputs": [],
   "source": [
    "y = (beta1*x + beta0) + 2*np.random.randn(sample_size)"
   ]
  },
  {
   "cell_type": "markdown",
   "metadata": {},
   "source": [
    "Let's check the data we are going to fit"
   ]
  },
  {
   "cell_type": "code",
   "execution_count": 5,
   "metadata": {},
   "outputs": [
    {
     "data": {
      "image/png": "[encoded data removed]",
      "text/plain": [
       "<Figure size 432x288 with 1 Axes>"
      ]
     },
     "metadata": {
      "needs_background": "light"
     },
     "output_type": "display_data"
    }
   ],
   "source": [
    "plt.plot(x, y, 'o')\n",
    "plt.show()"
   ]
  },
  {
   "cell_type": "markdown",
   "metadata": {},
   "source": [
    "## Least squares method\n",
    "\n",
    "Now fit the data using the least squares technique, we are going to estimate parameters $\\hat{\\beta_0}$ and $\\hat{\\beta_1}$ corresponing to the parameters of the line $y = \\beta_0 + \\beta_1x$ that generated the data. The least square method computes the parameters that minimize the residual sum of squares (RSS) defined as:\n",
    "$$\n",
    "\\text{RSS} = \\sum_{i=1}^n (y_i - \\hat{y}_i)^2\n",
    "$$\n",
    "\n",
    "The analytic solution of the values of $\\hat{\\beta_0}$ and $\\hat{\\beta_1}$ that minimize the RSS is:\n",
    "$$\n",
    "\\hat{\\beta_1} = \\frac{\\sum_{i=1}^n (x_i - \\overline{x})(y_i - \\overline{y})}{\\sum_{i=1}^n (x_i - \\overline{x})^2}, \\\\\n",
    "\\hat{\\beta_0} = \\overline{y} - \\hat{\\beta_1}\\overline{x}\n",
    "$$"
   ]
  },
  {
   "cell_type": "code",
   "execution_count": 6,
   "metadata": {},
   "outputs": [],
   "source": [
    "def simple_linear_regression(x, y):\n",
    "    x_mean = np.mean(x)\n",
    "    y_mean = np.mean(y)\n",
    "\n",
    "    x_dev = x-x_mean\n",
    "    y_dev = y-y_mean\n",
    "\n",
    "    b1 = np.sum(x_dev*y_dev)/np.sum(x_dev**2)\n",
    "    b0 = y_mean - x_mean*b1\n",
    "    return b0, b1"
   ]
  },
  {
   "cell_type": "code",
   "execution_count": 7,
   "metadata": {},
   "outputs": [
    {
     "name": "stdout",
     "output_type": "stream",
     "text": [
      "Intercept = 1.9627188261838135 \n",
      "Coefficient = 4.9036031713167985\n"
     ]
    }
   ],
   "source": [
    "b0, b1 = simple_linear_regression(x, y)\n",
    "print(\"Intercept = \"+str(b0)+\" \\nCoefficient = \" + str(b1))"
   ]
  },
  {
   "cell_type": "markdown",
   "metadata": {},
   "source": [
    "### Making new predictions\n",
    "\n",
    "We can now predict the response for a new value $x_i$ as:\n",
    "$$\n",
    "\\hat{y_i} = \\hat{\\beta_0} + \\hat{\\beta_1}x_i\n",
    "$$"
   ]
  },
  {
   "cell_type": "code",
   "execution_count": 8,
   "metadata": {},
   "outputs": [],
   "source": [
    "def predict(x, beta):\n",
    "    y = x*0.0\n",
    "    for i, b in enumerate(beta):\n",
    "        y += (x**i)*b\n",
    "    return y"
   ]
  },
  {
   "cell_type": "code",
   "execution_count": 9,
   "metadata": {},
   "outputs": [
    {
     "name": "stdout",
     "output_type": "stream",
     "text": [
      "For a test value of x = 2.00, the predicted response is y_hat = 11.77, and the true value is y = 12.00\n"
     ]
    }
   ],
   "source": [
    "x_test = 2\n",
    "\n",
    "pred_test = predict(x_test, [b0, b1])\n",
    "\n",
    "result = \"For a test value of x = %.2f, the predicted response is y_hat = %.2f, and the true value is y = %.2f\" % (x_test, pred_test, (beta1*x_test + beta0))\n",
    "print(result)\n"
   ]
  },
  {
   "cell_type": "markdown",
   "metadata": {},
   "source": [
    "## Fitness metrics\n",
    "\n",
    "### Residual Standard Error of the estimation\n",
    "\n",
    "The residual standard error (RSE) is an estimate of the standard deviation of the random error term $\\epsilon$. Typically we dont know $\\epsilon$ and it is considered the irreducible error. However in this case we have generated the data and simulated noise, so $\\epsilon$ can be identified with the added noise. This measure gives an estimation of the amount that a prediction deviates from the true line in average. The metric is defined as follows \n",
    "$$\n",
    "\\text{RSE} = \\sqrt{\\frac{1}{n-2}\\sum_{i=1}^n(y_i - \\hat{y}_i)^2},\n",
    "$$\n",
    "where $n$ is the number of samples."
   ]
  },
  {
   "cell_type": "code",
   "execution_count": 10,
   "metadata": {},
   "outputs": [],
   "source": [
    "def stdError(x, y, beta):\n",
    "    y_pred = predict(x, beta)\n",
    "    return np.sqrt(np.sum((y_pred-y)**2)/(x.size-2))"
   ]
  },
  {
   "cell_type": "code",
   "execution_count": 11,
   "metadata": {},
   "outputs": [
    {
     "name": "stdout",
     "output_type": "stream",
     "text": [
      "Standard Error of the estimation is 1.5826607353254256\n"
     ]
    }
   ],
   "source": [
    "stdE = stdError(x, y, [b0, b1])\n",
    "print(\"Standard Error of the estimation is \" + str(stdE))"
   ]
  },
  {
   "cell_type": "markdown",
   "metadata": {},
   "source": [
    "Notice that the output is in units of $y$, so the number on its own does not give much information about the fitness, the magnitud of $y$ should be accounted. It is not the same to deviate $2$ units from the true value when this is $y_i = 10000$ than when it is $y_i = 1$. For this reason the RSE has to be interpreted along with the scale of $Y$. To overcome this limitation we can use the $R^2$ Statistic."
   ]
  },
  {
   "cell_type": "markdown",
   "metadata": {},
   "source": [
    "### $R^2$ Statistic\n",
    "\n",
    "\n",
    "The R squared is used to verify how well the model describes the data. This metric is the proportion of variability explained, because it's a proportion it takes values in the range $[0, 1]$ and avoids the problem of being subject to the scale of $Y$. But how can we measure the explained variability? To do this we can exploit a couple concepts. \n",
    "\n",
    "The total variance of the response $Y$ can be measured using the total sum of squares (TSS) defined as\n",
    "$$\n",
    "\\text{TSS} = \\sum_{i=1}^n(y_i - \\overline{y})^2\n",
    "$$\n",
    "\n",
    "Besides, the residual sum of squares (RSS) represents the amount of variability that is left after performing the regression. The R squared statistic is defined then as\n",
    "$$\n",
    "R^2 = \\frac{\\text{TSS} - \\text{RSS}}{\\text{TSS}} = 1 - \\frac{\\text{RSS}}{\\text{TSS}} = \\frac{\\sum_{i=1}^n (y_i - \\hat{y_i})^2}{\\sum_{i=1}^n(y_i - \\overline{y})^2}\n",
    "$$"
   ]
  },
  {
   "cell_type": "code",
   "execution_count": 13,
   "metadata": {},
   "outputs": [],
   "source": [
    "def r2(x, y, beta):\n",
    "    y_pred = predict(x, beta)\n",
    "    \n",
    "    y_mean = np.mean(y)\n",
    "\n",
    "    y_stdev = (y-y_mean)**2\n",
    "    y_pstdev = (y_pred-y_mean)**2\n",
    "    return np.sum(y_pstdev)/np.sum(y_stdev)"
   ]
  },
  {
   "cell_type": "markdown",
   "metadata": {},
   "source": [
    "Let's check our $R^2$ score"
   ]
  },
  {
   "cell_type": "code",
   "execution_count": 14,
   "metadata": {},
   "outputs": [
    {
     "name": "stdout",
     "output_type": "stream",
     "text": [
      "R squared score = 0.9398458828913302\n"
     ]
    }
   ],
   "source": [
    "r2score = r2(x, y, [b0, b1])\n",
    "print(\"R squared score = \" + str(r2score))"
   ]
  },
  {
   "cell_type": "markdown",
   "metadata": {},
   "source": [
    "It is actually very good, it might be because we have small noise.\n",
    "For noisier data it should perform worse."
   ]
  },
  {
   "cell_type": "code",
   "execution_count": 15,
   "metadata": {},
   "outputs": [
    {
     "name": "stdout",
     "output_type": "stream",
     "text": [
      "R squared score = 0.7544987814074905\n"
     ]
    }
   ],
   "source": [
    "# Use a bigger standard deviation for the simulated error, this is more noise\n",
    "noisier_e = 5\n",
    "\n",
    "y_noisy = (beta1*x + beta0) + noisier_e*np.random.randn(sample_size)\n",
    "r2score = r2(x, y_noisy, simple_linear_regression(x, y_noisy))\n",
    "print(\"R squared score = \" + str(r2score))"
   ]
  },
  {
   "cell_type": "markdown",
   "metadata": {},
   "source": [
    "Whould more data manage this? It may be intuitive to use more data to cancel the effect of the noise, as it is zero mean, averaging along multiple samples should cancel it."
   ]
  },
  {
   "cell_type": "code",
   "execution_count": 16,
   "metadata": {},
   "outputs": [
    {
     "name": "stdout",
     "output_type": "stream",
     "text": [
      "R squared score = 0.6679421741797268\n"
     ]
    }
   ],
   "source": [
    "big_sample_size = 10000\n",
    "\n",
    "# Generate a bigger set of simulated data\n",
    "x_big = np.random.random_sample(big_sample_size)*5\n",
    "y_big = (beta1*x_big + beta0) + noisier_e*np.random.randn(big_sample_size)\n",
    "\n",
    "\n",
    "r2score = r2(x_big, y_big, simple_linear_regression(x_big, y_big))\n",
    "print(\"R squared score = \" + str(r2score))"
   ]
  },
  {
   "cell_type": "markdown",
   "metadata": {},
   "source": [
    "In this case the $R^2$ has even decreased. But this is just one example and data is generated randomly, we can perform more experiments using different dataset sizes."
   ]
  },
  {
   "cell_type": "code",
   "execution_count": 17,
   "metadata": {},
   "outputs": [
    {
     "data": {
      "image/png": "[encoded data removed]",
      "text/plain": [
       "<Figure size 432x288 with 1 Axes>"
      ]
     },
     "metadata": {
      "needs_background": "light"
     },
     "output_type": "display_data"
    }
   ],
   "source": [
    "cum_r2 = [r2(x_big[:i], y_big[:i], simple_linear_regression(x_big[:i], y_big[:i])) for i in range(3, big_sample_size)]\n",
    "\n",
    "plt.plot(range(3, big_sample_size), cum_r2)\n",
    "plt.ylabel(\"$R^2$\")\n",
    "plt.xlabel(\"$n$\")\n",
    "plt.show()"
   ]
  },
  {
   "cell_type": "markdown",
   "metadata": {},
   "source": [
    "We can see that the computed $R^2$ is constant with the size of the training set. Lets take a look at the equation for computing $R^2$. \n",
    "$$\n",
    "R^2 = 1- \\frac{\\text{RSS}}{\\text{TSS}}, \\\\\n",
    "\\text{RSS} = \\sum_{i=1}^n (y_i - \\hat{y}_i)^2, \\\\\n",
    "\\text{TSS} = \\sum_{i=1}^n(y_i - \\overline{y})^2\n",
    "$$\n",
    "\n",
    "We can easily verify that TSS grows linearly with $n$ as the average difference remains the same despite the total number of training samples. However one might expect that the predictions $\\hat{y_i}$ improve with the size of de training set, getting closer to $y_i$ and, consquently, RSS not incresing at the same rate as TSS. But we have demostrated empirically that this is not the case, why?\n",
    "\n",
    "This is due to the irreducible error that we simulated when adding the noise. This irreducible error marks a theoric limit of how much we can approximate to the true response, a higher $R^2$ would mean that we have overfitted the training data. In this case, the true response is a linear relationship, so we cannot overfit.\n",
    "\n",
    "As we know what the true irreducible error is we can compare it against the estimated one(recall that RSE is an estimate of this irreducible error). Lets perform the same experiment for different training sets sizes, but computing also the RSE. When the estimate of the irreducible error gets accurate, we can say that $R^2$ has reached the theoretic limit."
   ]
  },
  {
   "cell_type": "code",
   "execution_count": 18,
   "metadata": {},
   "outputs": [
    {
     "data": {
      "image/png": "[encoded data removed]",
      "text/plain": [
       "<Figure size 864x360 with 2 Axes>"
      ]
     },
     "metadata": {
      "needs_background": "light"
     },
     "output_type": "display_data"
    }
   ],
   "source": [
    "cum_rse = [stdError(x_big[:i], y_big[:i], simple_linear_regression(x_big[:i], y_big[:i])) for i in range(3, big_sample_size)]\n",
    "\n",
    "f, axarr = plt.subplots(1, 2, figsize=(12, 5))\n",
    "\n",
    "axarr[0].plot(range(3, big_sample_size), cum_r2)\n",
    "axarr[0].set_ylabel(\"$R^2$\")\n",
    "axarr[0].set_xlabel(\"$n$\")\n",
    "\n",
    "axarr[1].plot(range(3, big_sample_size), cum_rse)\n",
    "axarr[1].set_ylabel(\"RSE\")\n",
    "axarr[1].set_xlabel(\"$n$\")\n",
    "\n",
    "\n",
    "plt.show()"
   ]
  },
  {
   "cell_type": "markdown",
   "metadata": {},
   "source": [
    "## Comparison to the sklearn implementation\n",
    "\n",
    "To the aim of validating our results let's compare them against the linear regression implementation of sklearn. "
   ]
  },
  {
   "cell_type": "code",
   "execution_count": 19,
   "metadata": {},
   "outputs": [],
   "source": [
    "from sklearn import linear_model"
   ]
  },
  {
   "cell_type": "code",
   "execution_count": 20,
   "metadata": {},
   "outputs": [
    {
     "name": "stdout",
     "output_type": "stream",
     "text": [
      "Sklearn theta0: [1.96271883]\n",
      "Sklearn theta1: [[4.90360317]]\n",
      "Sklearn R squared: 0.9398458828913299\n"
     ]
    }
   ],
   "source": [
    "linear = linear_model.LinearRegression()\n",
    "linear.fit(x.reshape(-1, 1), y.reshape(-1, 1))\n",
    "\n",
    "print(\"Sklearn theta0: \" + str(linear.intercept_))\n",
    "print(\"Sklearn theta1: \" + str(linear.coef_))\n",
    "print(\"Sklearn R squared: \" + str(linear.score(x.reshape(-1, 1), y.reshape(-1, 1))))"
   ]
  },
  {
   "cell_type": "markdown",
   "metadata": {},
   "source": [
    "The same! Not surprise really.. This is beacuase the algorithm is deterministic. In more complex algorithms such as in a MLP we could different results due to, for example, random initialization."
   ]
  }
 ],
 "metadata": {
  "kernelspec": {
   "display_name": "Python 3",
   "language": "python",
   "name": "python3"
  },
  "language_info": {
   "codemirror_mode": {
    "name": "ipython",
    "version": 3
   },
   "file_extension": ".py",
   "mimetype": "text/x-python",
   "name": "python",
   "nbconvert_exporter": "python",
   "pygments_lexer": "ipython3",
   "version": "3.7.0"
  }
 },
 "nbformat": 4,
 "nbformat_minor": 2
}
