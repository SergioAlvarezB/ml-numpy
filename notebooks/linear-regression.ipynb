{
 "cells": [
  {
   "cell_type": "markdown",
   "metadata": {},
   "source": [
    "# Linear Regression\n",
    "\n",
    "This notebook implements linear regression in numpy using the least squares method. Some fitness metrics are also discussed.\n",
    "\n",
    "Some imports:"
   ]
  },
  {
   "cell_type": "code",
   "execution_count": 1,
   "metadata": {},
   "outputs": [],
   "source": [
    "import matplotlib.pyplot as plt\n",
    "import numpy as np\n",
    "import sys\n",
    "\n",
    "from mpl_toolkits.mplot3d import Axes3D\n",
    "\n",
    "sys.path.append(\"..\")\n",
    "from models.linear_regression import LinearRegression"
   ]
  },
  {
   "cell_type": "code",
   "execution_count": 2,
   "metadata": {},
   "outputs": [],
   "source": [
    "%matplotlib inline"
   ]
  },
  {
   "cell_type": "markdown",
   "metadata": {},
   "source": [
    "## Simple linear regression: One variable\n",
    "\n",
    "Linear regression is a method that allows to predict the value of a quantitative respone Y on the basis of some predictor variables $\\{X_1, X_2, ..., X_n\\}$. This approach assumes a linear relationship between the response and the predictors. This takes the form:\n",
    "\n",
    "$$\n",
    "\\begin{equation}\n",
    "Y = \\beta_0 + \\beta_1X_1 + \\beta_2X_2 + ... + \\beta_nX_n,\n",
    "\\end{equation}\n",
    "$$\n",
    "\n",
    "where $\\beta_0, \\beta_1, ..., \\beta_n$ are unknown parameters. First, we implement a simple version where there is only one variable $X$. This leave us with 2 paremeters, the intercept($\\beta_0$) and the coefficient($\\beta_1$) of the function:\n",
    "$$\n",
    "\\begin{equation}\n",
    "Y = \\beta_0 + \\beta_1X\n",
    "\\end{equation}\n",
    "$$\n",
    "\n",
    "Based on a training set we produce the estimates $\\hat{\\beta_0}$ and $\\hat{\\beta_1}$ that fit the training data, we can later use them to predict future values of the response $Y$ for new values of $X$ as:\n",
    "$$\n",
    "\\begin{equation}\n",
    "\\hat{y} = \\hat{\\beta_0} + \\hat{\\beta_1}x_i\n",
    "\\end{equation}\n",
    "$$\n",
    "\n",
    "In this notation $\\hat{y}$ is the predicted value of $Y$ for $X = x_i$\n",
    "\n",
    "### Generate the data\n",
    "\n",
    "We are gonna try to interpolate the function $y = 5x + 2$\n",
    "\n",
    "We take randomly 20 points in the interval $[0, 5)$, this correspond to our set of training samples $X = \\{x_1, x_2, ..., x_{20}\\}$"
   ]
  },
  {
   "cell_type": "code",
   "execution_count": 3,
   "metadata": {},
   "outputs": [],
   "source": [
    "sample_size = 20\n",
    "\n",
    "# Parameters to estimate\n",
    "b0 = 2\n",
    "b1 = 5\n",
    "\n",
    "# Standard deviation of the simulated irreducible error\n",
    "e = 2\n",
    "\n",
    "\n",
    "x = np.random.random_sample(sample_size)*5"
   ]
  },
  {
   "cell_type": "markdown",
   "metadata": {},
   "source": [
    "We compute the dependent variable, $y_i$, mapping with the function and adding some random noise to the data.\n",
    "\n",
    "We are using zero mean and two standar deviation normal distributed noise."
   ]
  },
  {
   "cell_type": "code",
   "execution_count": 4,
   "metadata": {},
   "outputs": [],
   "source": [
    "y = (b1*x + b0) + e*np.random.randn(sample_size)"
   ]
  },
  {
   "cell_type": "markdown",
   "metadata": {},
   "source": [
    "Let's check the data we are going to fit"
   ]
  },
  {
   "cell_type": "code",
   "execution_count": 5,
   "metadata": {},
   "outputs": [
    {
     "data": {
      "image/png": "[encoded data removed]",
      "text/plain": [
       "<Figure size 432x288 with 1 Axes>"
      ]
     },
     "metadata": {
      "needs_background": "light"
     },
     "output_type": "display_data"
    }
   ],
   "source": [
    "plt.plot(x, y, 'o')\n",
    "plt.show()"
   ]
  },
  {
   "cell_type": "markdown",
   "metadata": {},
   "source": [
    "## Least squares method\n",
    "\n",
    "Now fit the data using the least squares technique, we are going to estimate parameters $\\hat{\\beta_0}$ and $\\hat{\\beta_1}$ corresponing to the parameters of the line $y = \\beta_0 + \\beta_1x$ that generated the data. The least square method computes the parameters that minimize the residual sum of squares (RSS) defined as:\n",
    "$$\n",
    "\\text{RSS} = \\sum_{i=1}^n (y_i - \\hat{y}_i)^2\n",
    "$$\n",
    "\n",
    "The analytic solution of the values of $\\hat{\\beta_0}$ and $\\hat{\\beta_1}$ that minimize the RSS is:\n",
    "$$\n",
    "\\hat{\\beta_1} = \\frac{\\sum_{i=1}^n (x_i - \\overline{x})(y_i - \\overline{y})}{\\sum_{i=1}^n (x_i - \\overline{x})^2}, \\\\\n",
    "\\hat{\\beta_0} = \\overline{y} - \\hat{\\beta_1}\\overline{x}\n",
    "$$"
   ]
  },
  {
   "cell_type": "code",
   "execution_count": 6,
   "metadata": {},
   "outputs": [
    {
     "name": "stdout",
     "output_type": "stream",
     "text": [
      "Estimated parameters of the linear regression model:\n",
      "Intercept = 3.390914159450319 \n",
      "Coefficient = 4.504515480115419\n"
     ]
    }
   ],
   "source": [
    "simple_model = LinearRegression()\n",
    "b_hat = simple_model.fit(x.reshape(-1, 1), y)\n",
    "\n",
    "print(\"Estimated parameters of the linear regression model:\\n\"\n",
    "      + \"Intercept = \"+str(b_hat[0])+\" \\nCoefficient = \" + str(b_hat[1]))"
   ]
  },
  {
   "cell_type": "code",
   "execution_count": 7,
   "metadata": {},
   "outputs": [
    {
     "data": {
      "image/png": "[encoded data removed]",
      "text/plain": [
       "<Figure size 432x288 with 1 Axes>"
      ]
     },
     "metadata": {
      "needs_background": "light"
     },
     "output_type": "display_data"
    }
   ],
   "source": [
    "# Plottin rergession line over data\n",
    "x_axis = np.linspace(0, 5, 100)\n",
    "plt.plot(x, y, 'o')\n",
    "plt.plot(x_axis, b1*x_axis + b0, label='True line', color='green')\n",
    "plt.plot(x_axis, b_hat[1]*x_axis + b_hat[0], label='Regressed line')\n",
    "plt.legend()\n",
    "plt.show()"
   ]
  },
  {
   "cell_type": "markdown",
   "metadata": {},
   "source": [
    "Using the LinearRegression class:"
   ]
  },
  {
   "cell_type": "markdown",
   "metadata": {},
   "source": [
    "### Making new predictions\n",
    "\n",
    "We can now predict the response for a new value $x_i$ as:\n",
    "$$\n",
    "\\hat{y_i} = \\hat{\\beta_0} + \\hat{\\beta_1}x_i\n",
    "$$"
   ]
  },
  {
   "cell_type": "code",
   "execution_count": 8,
   "metadata": {},
   "outputs": [
    {
     "name": "stdout",
     "output_type": "stream",
     "text": [
      "For a test value of x = 2.00, the predicted response is y_hat = 12.40, and the true value is y = 12.00\n"
     ]
    }
   ],
   "source": [
    "x_test = 2\n",
    "\n",
    "pred_test = b_hat[0] + x_test*b_hat[1]\n",
    "\n",
    "result = \"For a test value of x = %.2f, the predicted response is y_hat = %.2f, and the true value is y = %.2f\" % (x_test, pred_test, (b1*x_test + b0))\n",
    "print(result)"
   ]
  },
  {
   "cell_type": "markdown",
   "metadata": {},
   "source": [
    "We may also use the predict method:"
   ]
  },
  {
   "cell_type": "code",
   "execution_count": 9,
   "metadata": {},
   "outputs": [
    {
     "name": "stdout",
     "output_type": "stream",
     "text": [
      "Predicted value: 12.40\n"
     ]
    }
   ],
   "source": [
    "pred_test = simple_model.predict(x_test)\n",
    "print(\"Predicted value: %.2f\" % pred_test)"
   ]
  },
  {
   "cell_type": "markdown",
   "metadata": {},
   "source": [
    "## Fitness metrics\n",
    "\n",
    "### Residual Standard Error of the estimation\n",
    "\n",
    "The residual standard error (RSE) is an estimate of the standard deviation of the random error term $\\epsilon$. Typically we dont know $\\epsilon$ and it is considered the irreducible error. However in this case we have generated the data and simulated noise, so $\\epsilon$ can be identified with the added noise. This measure gives an estimation of how much the prediction deviates from the true line in average measured in the units of the respond. The metric is defined as follows \n",
    "$$\n",
    "\\text{RSE} = \\sqrt{\\frac{1}{n-2}\\sum_{i=1}^n(y_i - \\hat{y}_i)^2},\n",
    "$$\n",
    "where $n$ is the number of samples."
   ]
  },
  {
   "cell_type": "code",
   "execution_count": 10,
   "metadata": {},
   "outputs": [
    {
     "name": "stdout",
     "output_type": "stream",
     "text": [
      "Estimated standard error of the model: 1.52\n"
     ]
    }
   ],
   "source": [
    "print(\"Estimated standard error of the model: %.2f\" % simple_model.std_err)"
   ]
  },
  {
   "cell_type": "markdown",
   "metadata": {},
   "source": [
    "Notice that the output is in units of $y$, so the number on its own does not give much information, it should be considered along with the magnitud of $y$. It is not the same to deviate $2$ units from the true value when this is $y_i = 10000$ than when it is $y_i = 1$. For this reason the RSE has to be interpreted along with the scale of $Y$. To overcome this limitation we can use the $R^2$ Statistic."
   ]
  },
  {
   "cell_type": "markdown",
   "metadata": {},
   "source": [
    "### $R^2$ Statistic\n",
    "\n",
    "\n",
    "The R squared is used to verify how well the model describes the data. This metric is the proportion of variability explained, because it's a proportion it takes values in the range $[0, 1]$ and avoids the problem of being subject to the scale of $Y$. But how can we measure the explained variability? To do this we can exploit a couple concepts. \n",
    "\n",
    "The total variance of the response $Y$ can be measured using the total sum of squares (TSS) defined as\n",
    "$$\n",
    "\\text{TSS} = \\sum_{i=1}^n(y_i - \\overline{y})^2\n",
    "$$\n",
    "\n",
    "Besides, the residual sum of squares (RSS) represents the amount of variability that is left after performing the regression. The R squared statistic is defined as:\n",
    "$$\n",
    "R^2 = \\frac{\\text{TSS} - \\text{RSS}}{\\text{TSS}} = 1 - \\frac{\\text{RSS}}{\\text{TSS}} = \\frac{\\sum_{i=1}^n (y_i - \\hat{y_i})^2}{\\sum_{i=1}^n(y_i - \\overline{y})^2}\n",
    "$$\n",
    "\n",
    "Looking into our particular case:"
   ]
  },
  {
   "cell_type": "code",
   "execution_count": 11,
   "metadata": {},
   "outputs": [
    {
     "name": "stdout",
     "output_type": "stream",
     "text": [
      "R squared score of the model: 0.94928\n"
     ]
    }
   ],
   "source": [
    "print(\"R squared score of the model: %.5f\" % simple_model.r2)"
   ]
  },
  {
   "cell_type": "markdown",
   "metadata": {},
   "source": [
    "It is actually very good, it might be because we have small noise.\n",
    "For noisier data it should perform worse."
   ]
  },
  {
   "cell_type": "code",
   "execution_count": 12,
   "metadata": {},
   "outputs": [
    {
     "name": "stdout",
     "output_type": "stream",
     "text": [
      "Estimated standard error: 4.40\n",
      "R squared score: 0.78\n"
     ]
    }
   ],
   "source": [
    "# Use a bigger standard deviation for the simulated error, this is more noise\n",
    "noisier_e = 5\n",
    "\n",
    "y_noisy = (b1*x + b0) + noisier_e*np.random.randn(sample_size)\n",
    "\n",
    "# Estimate parameters\n",
    "[b0_hat, b1_hat] = simple_model.fit(x.reshape(-1, 1), y_noisy)\n",
    "\n",
    "# Fitness metrics\n",
    "print(\"Estimated standard error: %.2f\" % simple_model.std_err)\n",
    "print(\"R squared score: %.2f\" % simple_model.r2)"
   ]
  },
  {
   "cell_type": "markdown",
   "metadata": {},
   "source": [
    "We can see that the estimate of the standard error has grown (keeping track of the real error) and the r2 score is worse too."
   ]
  },
  {
   "cell_type": "markdown",
   "metadata": {},
   "source": [
    "## Comparison to the sklearn implementation\n",
    "\n",
    "To the aim of validating our results let's compare them against the linear regression implementation of sklearn. "
   ]
  },
  {
   "cell_type": "code",
   "execution_count": 13,
   "metadata": {},
   "outputs": [],
   "source": [
    "from sklearn import linear_model"
   ]
  },
  {
   "cell_type": "code",
   "execution_count": 14,
   "metadata": {},
   "outputs": [
    {
     "name": "stdout",
     "output_type": "stream",
     "text": [
      "Sklearn beta0: 3.39091\n",
      "Sklearn beta1: 4.50452\n",
      "Sklearn R squared: 0.94928\n"
     ]
    }
   ],
   "source": [
    "linear = linear_model.LinearRegression()\n",
    "linear.fit(x.reshape(-1, 1), y.reshape(-1, 1))\n",
    "\n",
    "print(\"Sklearn beta0: %.5f\" % np.squeeze(linear.intercept_))\n",
    "print(\"Sklearn beta1: %.5f\" % np.squeeze(linear.coef_))\n",
    "print(\"Sklearn R squared: %.5f\" % linear.score(x.reshape(-1, 1), y.reshape(-1, 1)))"
   ]
  },
  {
   "cell_type": "markdown",
   "metadata": {},
   "source": [
    "The same! Not surprise really.. This is beacuase the algorithm is deterministic. In more complex algorithms such as in a MLP we could different results due to, for example, random initialization."
   ]
  },
  {
   "cell_type": "markdown",
   "metadata": {},
   "source": [
    "## General linear regression: multiple independant variables\n",
    "\n",
    "The model can be generalized as:\n",
    "$$\n",
    "Y = X\\beta\n",
    "$$\n",
    "where $\\beta$ is the vector $[\\beta_0, \\beta_1, ..., \\beta_n]$ and X is the collection of examples(one per row). The first entry in each training example is $1$ as it is the coefficient of the intercept. Typically the linear model can be written as:\n",
    "$$\n",
    "Y = \\beta_0 + X\\beta_{1:n},\n",
    "$$\n",
    "but adding a first column on $1$s to $X$ we can rewritte the equation as the more compact one of the begining.\n",
    "\n",
    "In this case instead of fitting a line we fit an n-dimensional hyperplane. Let's see this in 2D"
   ]
  },
  {
   "cell_type": "code",
   "execution_count": 15,
   "metadata": {},
   "outputs": [],
   "source": [
    "sample_size = 100\n",
    "\n",
    "# Parameters to estimate\n",
    "beta = np.array([1, 2, -2])\n",
    "\n",
    "# Standard deviation of the simulated irreducible error\n",
    "e = 2\n",
    "\n",
    "# Generate random points\n",
    "x = np.random.rand(sample_size, 2)*5\n",
    "\n",
    "\n",
    "# Simulate data with noise\n",
    "y = (np.matmul(x, beta[1:]) + beta[0]) + e*np.random.randn(sample_size)"
   ]
  },
  {
   "cell_type": "markdown",
   "metadata": {},
   "source": [
    "### Visualize the data"
   ]
  },
  {
   "cell_type": "code",
   "execution_count": 16,
   "metadata": {},
   "outputs": [
    {
     "data": {
      "image/png": "[encoded data removed]",
      "text/plain": [
       "<Figure size 432x288 with 1 Axes>"
      ]
     },
     "metadata": {
      "needs_background": "light"
     },
     "output_type": "display_data"
    }
   ],
   "source": [
    "fig = plt.figure()\n",
    "\n",
    "ax = plt.axes(projection='3d')\n",
    "ax.scatter3D(x[:, 0], x[:, 1], y);\n",
    "plt.show()"
   ]
  },
  {
   "cell_type": "markdown",
   "metadata": {},
   "source": [
    "### Estimator for $\\beta$\n",
    "\n",
    "Using the least squares method the resulting estimator is:\n",
    "$$\n",
    "\\hat{\\beta} = (X^TX)^{-1}X^TY\n",
    "$$\n",
    "This assumes $X$ has full column rank. If $M^+$ is the Moore-Penrose pseudoinverse of any matrix $M$, then $\\beta$ can be estimated as:\n",
    "\n",
    "$$\n",
    "\\hat{\\beta} = X^+Y,\n",
    "$$\n",
    "\n",
    "which can be expressed as:\n",
    "$$\n",
    "\\hat{\\beta} = (X^TX)^+X^TY,\n",
    "$$\n",
    "\n",
    "obtaining a correct estimator for $\\beta$ even when $X$ has less than full rank."
   ]
  },
  {
   "cell_type": "code",
   "execution_count": 17,
   "metadata": {},
   "outputs": [
    {
     "name": "stdout",
     "output_type": "stream",
     "text": [
      "Estimated parameters:\n",
      " B0=2.364948307515827\n",
      " B1=1.6136037083970096\n",
      " B2=-2.1559887289541617\n"
     ]
    }
   ],
   "source": [
    "linear_model = LinearRegression()\n",
    "\n",
    "# The model expects the data without the column of ones and with shape (n_samples, n_features)\n",
    "beta_hat = linear_model.fit(x, y)\n",
    "print(\"Estimated parameters:\\n B0={}\\n B1={}\\n B2={}\".format(beta_hat[0], beta_hat[1], beta_hat[2]))"
   ]
  },
  {
   "cell_type": "code",
   "execution_count": 18,
   "metadata": {},
   "outputs": [
    {
     "data": {
      "image/png": "[encoded data removed]",
      "text/plain": [
       "<Figure size 432x288 with 1 Axes>"
      ]
     },
     "metadata": {
      "needs_background": "light"
     },
     "output_type": "display_data"
    }
   ],
   "source": [
    "xx, yy = np.meshgrid(np.linspace(0, 5, 100), np.linspace(0, 5, 100))\n",
    "z = beta[0] + beta[1]*xx + beta[2]*yy\n",
    "z_hat = beta_hat[0] + beta_hat[1]*xx + beta_hat[2]*yy\n",
    "\n",
    "fig = plt.figure()\n",
    "\n",
    "ax = plt.axes(projection='3d')\n",
    "ax.scatter3D(x[:, 0], x[:, 1], y);\n",
    "ax.plot_surface(xx, yy, z, alpha=0.5, color='green', label='True plane')\n",
    "ax.plot_surface(xx, yy, z_hat, alpha=0.5, color='orange', label='Regressed plane')\n",
    "plt.show()"
   ]
  },
  {
   "cell_type": "markdown",
   "metadata": {},
   "source": [
    "### Fitness metrics"
   ]
  },
  {
   "cell_type": "code",
   "execution_count": 19,
   "metadata": {},
   "outputs": [
    {
     "name": "stdout",
     "output_type": "stream",
     "text": [
      "Estimated standard error: 2.00\n",
      "R squared score: 0.80\n"
     ]
    }
   ],
   "source": [
    "print(\"Estimated standard error: %.2f\" % linear_model.std_err)\n",
    "print(\"R squared score: %.2f\" % linear_model.r2)"
   ]
  },
  {
   "cell_type": "markdown",
   "metadata": {},
   "source": [
    "## Bibliography\n",
    "\n",
    "* [Wikipedia: Linear Regression](https://en.wikipedia.org/wiki/Linear_regression)\n",
    "* [Proofs involving ordinary least squares](https://en.wikipedia.org/wiki/Proofs_involving_ordinary_least_squares#Least_squares_estimator_for_.CE.B2)\n",
    "* [Regression via pseudoinverse](https://spartanideas.msu.edu/2015/10/21/regression-via-pseudoinverse/)"
   ]
  }
 ],
 "metadata": {
  "kernelspec": {
   "display_name": "Python 3",
   "language": "python",
   "name": "python3"
  },
  "language_info": {
   "codemirror_mode": {
    "name": "ipython",
    "version": 3
   },
   "file_extension": ".py",
   "mimetype": "text/x-python",
   "name": "python",
   "nbconvert_exporter": "python",
   "pygments_lexer": "ipython3",
   "version": "3.6.3"
  }
 },
 "nbformat": 4,
 "nbformat_minor": 2
}
