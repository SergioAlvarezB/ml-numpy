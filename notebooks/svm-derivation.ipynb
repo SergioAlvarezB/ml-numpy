{
 "cells": [
  {
   "cell_type": "markdown",
   "metadata": {},
   "source": [
    "# Training a SVM with gradient descent\n",
    "\n",
    "In this notebook I show how to derivate an algorithm to train a SVM using projected gradient descent. In practice SVM are trained using more nuance algorithms like [SMO](https://en.wikipedia.org/wiki/Sequential_minimal_optimization). However as suggested in [CIML](http://ciml.info/), SVMs can also be trained using projected gradient descent."
   ]
  },
  {
   "cell_type": "code",
   "execution_count": 1,
   "metadata": {},
   "outputs": [],
   "source": [
    "import sys\n",
    "import numpy as np\n",
    "import matplotlib.pyplot as plt\n",
    "\n",
    "sys.path.append(\"..\")\n",
    "from models.svm import SVM\n",
    "from utils.datasets import blobs_classification_dataset\n",
    "from utils.visualization import plot_decision_boundary"
   ]
  },
  {
   "cell_type": "code",
   "execution_count": 2,
   "metadata": {},
   "outputs": [],
   "source": [
    "%matplotlib inline\n",
    "\n",
    "# Turn interactive plotting off\n",
    "plt.ioff()\n",
    "\n",
    "# Reproducibility\n",
    "np.random.seed(1)"
   ]
  },
  {
   "cell_type": "markdown",
   "metadata": {},
   "source": [
    "## Maximizing the margin\n",
    "\n",
    "The most simple version of the SVM is the problem of finding the optimal separating hyperplane between 2 classes which are lineary separable. The optimal plane is that that maximizes the margin M defined as the distance from the plane to its closest point in the training set. Let $f(x) = x^T\\beta + \\beta_0$ be the separating hyperplane. Then we can solve the optimization problem:\n",
    "$$\n",
    "\\max_{\\beta, \\beta_0, \\|\\beta\\|=1} M \\\\\n",
    "\\text{subject to: } y_i(x_i^T\\beta + \\beta_0) \\geq M, i=1,2,..,N\n",
    "$$\n",
    "where $y_i \\in {-1, 1}$ is the label of the $i$-th training example $x_i$. The $\\|\\beta\\|=1$ constrain can be avoided setting the condition to $\\frac{1}{\\|\\beta\\|}y_i(x_i^T\\beta + \\beta_0) \\geq M, i=1,2,..,N$\n"
   ]
  },
  {
   "cell_type": "markdown",
   "metadata": {},
   "source": [
    "## Dealing with noise: Hinge Loss"
   ]
  },
  {
   "cell_type": "markdown",
   "metadata": {},
   "source": [
    "## Optimizing the dual form"
   ]
  },
  {
   "cell_type": "code",
   "execution_count": null,
   "metadata": {},
   "outputs": [],
   "source": []
  }
 ],
 "metadata": {
  "kernelspec": {
   "display_name": "Python 3",
   "language": "python",
   "name": "python3"
  },
  "language_info": {
   "codemirror_mode": {
    "name": "ipython",
    "version": 3
   },
   "file_extension": ".py",
   "mimetype": "text/x-python",
   "name": "python",
   "nbconvert_exporter": "python",
   "pygments_lexer": "ipython3",
   "version": "3.7.0"
  }
 },
 "nbformat": 4,
 "nbformat_minor": 2
}
