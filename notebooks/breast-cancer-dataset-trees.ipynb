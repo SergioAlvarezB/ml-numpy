{
 "cells": [
  {
   "cell_type": "markdown",
   "metadata": {},
   "source": [
    "# Breast cancer detection with decision trees"
   ]
  },
  {
   "cell_type": "code",
   "execution_count": 1,
   "metadata": {},
   "outputs": [],
   "source": [
    "import matplotlib.pyplot as plt\n",
    "import numpy as np\n",
    "import itertools\n",
    "import sys\n",
    "from sklearn.datasets import load_breast_cancer\n",
    "from sklearn.metrics import balanced_accuracy_score\n",
    "from tqdm import tqdm\n",
    "\n",
    "sys.path.append(\"..\")\n",
    "from models.decision_tree import DecisionTreeClassifier\n",
    "from models.logistic_regression import LogisticRegression\n",
    "from models.ensemble import BaggingClassifier, GradientBoostingClassifier"
   ]
  },
  {
   "cell_type": "code",
   "execution_count": 2,
   "metadata": {},
   "outputs": [],
   "source": [
    "%matplotlib inline\n",
    "# Reproducibility.\n",
    "np.random.seed(1)"
   ]
  },
  {
   "cell_type": "markdown",
   "metadata": {},
   "source": [
    "### Load data \n",
    "The breast cancer dataset contains 30 features corresponding to the mean, standard error, and worst case, of 10 different measures, which in order they are: \n",
    "\n",
    "* radius (mean of distances from center to points on the perimeter)\n",
    "* texture (standard deviation of gray-scale values)\n",
    "* perimeter\n",
    "* area\n",
    "* smoothness (local variation in radius lengths)\n",
    "* compactness (perimeter^2 / area - 1.0)\n",
    "* concavity (severity of concave portions of the contour)\n",
    "* concave points (number of concave portions of the contour)\n",
    "* symmetry\n",
    "* fractal dimension (“coastline approximation” - 1)"
   ]
  },
  {
   "cell_type": "code",
   "execution_count": 3,
   "metadata": {},
   "outputs": [
    {
     "name": "stdout",
     "output_type": "stream",
     "text": [
      "There are 569 samples with 30 features each.\n",
      "The mean of each feature is: [1.41272917e+01 1.92896485e+01 9.19690334e+01 6.54889104e+02\n",
      " 9.63602812e-02 1.04340984e-01 8.87993158e-02 4.89191459e-02\n",
      " 1.81161863e-01 6.27976098e-02 4.05172056e-01 1.21685343e+00\n",
      " 2.86605923e+00 4.03370791e+01 7.04097891e-03 2.54781388e-02\n",
      " 3.18937163e-02 1.17961371e-02 2.05422988e-02 3.79490387e-03\n",
      " 1.62691898e+01 2.56772232e+01 1.07261213e+02 8.80583128e+02\n",
      " 1.32368594e-01 2.54265044e-01 2.72188483e-01 1.14606223e-01\n",
      " 2.90075571e-01 8.39458172e-02]\n",
      "The standar deviation of each feature is: [3.52095076e+00 4.29725464e+00 2.42776193e+01 3.51604754e+02\n",
      " 1.40517641e-02 5.27663291e-02 7.96497253e-02 3.87687325e-02\n",
      " 2.73901809e-02 7.05415588e-03 2.77068942e-01 5.51163427e-01\n",
      " 2.02007710e+00 4.54510134e+01 2.99987837e-03 1.78924359e-02\n",
      " 3.01595231e-02 6.16486075e-03 8.25910439e-03 2.64374475e-03\n",
      " 4.82899258e+00 6.14085432e+00 3.35730016e+01 5.68856459e+02\n",
      " 2.28123569e-02 1.57198171e-01 2.08440875e-01 6.56745545e-02\n",
      " 6.18130785e-02 1.80453893e-02]\n"
     ]
    }
   ],
   "source": [
    "# Load and shuffle the data\n",
    "(X, y) = load_breast_cancer(return_X_y=True)\n",
    "n_samples, n_features = X.shape\n",
    "print(\"There are {} samples with {} features each.\".format(n_samples, n_features))\n",
    "\n",
    "perm = np.random.permutation(n_samples)\n",
    "X, y = X[perm, :], y[perm]\n",
    "\n",
    "# Mean and standar deviation of each feature:\n",
    "print(\"The mean of each feature is: {}\".format(X.mean(axis=0)))\n",
    "print(\"The standar deviation of each feature is: {}\".format(X.std(axis=0)))"
   ]
  },
  {
   "cell_type": "markdown",
   "metadata": {},
   "source": [
    "To achieve better performance, at least with our logistic regression baseline model, we may standarize the data:"
   ]
  },
  {
   "cell_type": "code",
   "execution_count": 4,
   "metadata": {},
   "outputs": [],
   "source": [
    "X = (X- X.mean(axis=0))/X.std(axis=0)"
   ]
  },
  {
   "cell_type": "markdown",
   "metadata": {},
   "source": [
    "### Cross validation function"
   ]
  },
  {
   "cell_type": "code",
   "execution_count": 5,
   "metadata": {},
   "outputs": [],
   "source": [
    "def cross_validate(model, k):\n",
    "    X_fold = X\n",
    "    y_fold = y\n",
    "    pivot = int(X_fold.shape[0]/k)\n",
    "    cum_acc = 0\n",
    "    for _ in tqdm(range(k)):\n",
    "        # Always take firt fold as test\n",
    "        x_test, y_test = X_fold[:pivot, :], y_fold[:pivot]\n",
    "        x_train, y_train = X_fold[pivot:, :], y_fold[pivot:]\n",
    "        \n",
    "        # fit the model\n",
    "        model.fit(X=x_train, y=y_train)\n",
    "        y_hat = model.predict(x_test)\n",
    "        \n",
    "        cum_acc += balanced_accuracy_score(y_test, y_hat)\n",
    "        \n",
    "        X_fold = np.concatenate((x_train, x_test))\n",
    "        y_fold = np.concatenate((y_train, y_test))\n",
    "        \n",
    "    return cum_acc/k"
   ]
  },
  {
   "cell_type": "markdown",
   "metadata": {},
   "source": [
    "### Define a logistic regression baseline"
   ]
  },
  {
   "cell_type": "code",
   "execution_count": 6,
   "metadata": {},
   "outputs": [
    {
     "data": {
      "image/png": "[encoded data removed]",
      "text/plain": [
       "<Figure size 1080x360 with 2 Axes>"
      ]
     },
     "metadata": {
      "needs_background": "light"
     },
     "output_type": "display_data"
    },
    {
     "name": "stdout",
     "output_type": "stream",
     "text": [
      "Accuracy on the test set: 0.9883040935672515\n",
      "Balanced Accuracy on the test set: 0.9841269841269842\n"
     ]
    }
   ],
   "source": [
    "# Initialize and fit the model.\n",
    "model = LogisticRegression(n_features=n_features)\n",
    "loss, acc = model.fit(X[:int(0.7*n_samples), :], y[:int(0.7*n_samples)], iterations=100, learning_rate=1e-4)\n",
    "\n",
    "# Visualize training.\n",
    "f, (ax1, ax2) = plt.subplots(1, 2, figsize=[15, 5])\n",
    "\n",
    "ax1.plot(loss)\n",
    "ax1.set_title('Loss')\n",
    "\n",
    "ax2.plot(acc)\n",
    "ax2.set_title('Accuracy')\n",
    "\n",
    "plt.show()\n",
    "\n",
    "# Evaluate on a held-out set\n",
    "y_pred = model.predict(X[int(0.7*n_samples):])\n",
    "acc = np.mean(np.round(y_pred)==y[int(0.7*n_samples):])\n",
    "print(\"Accuracy on the test set: {}\".format(acc))\n",
    "print(\"Balanced Accuracy on the test set: {}\".format(balanced_accuracy_score(y[int(0.7*n_samples):], np.round(y_pred))))"
   ]
  },
  {
   "cell_type": "markdown",
   "metadata": {},
   "source": [
    "The balanced-accuracy to beat is around 0.984, lets try with a single tree:"
   ]
  },
  {
   "cell_type": "code",
   "execution_count": 7,
   "metadata": {},
   "outputs": [
    {
     "name": "stdout",
     "output_type": "stream",
     "text": [
      "Accuracy on the train set: 0.9949748743718593\n",
      "Accuracy on the test set: 0.9649122807017544\n",
      "Balanced Accuracy on the test set: 0.9656084656084656\n"
     ]
    }
   ],
   "source": [
    "tree = DecisionTreeClassifier(max_depth=10, min_impurity=0.05)\n",
    "tree.fit(X[:int(0.7*n_samples), :], y[:int(0.7*n_samples)])\n",
    "\n",
    "# Evaluate on train and test set.\n",
    "y_pred = tree.predict(X[:int(0.7*n_samples), :])\n",
    "acc = np.mean(y_pred==y[:int(0.7*n_samples)])\n",
    "print(\"Accuracy on the train set: {}\".format(acc))\n",
    "\n",
    "y_pred = tree.predict(X[int(0.7*n_samples):, :])\n",
    "acc = np.mean(y_pred==y[int(0.7*n_samples):])\n",
    "print(\"Accuracy on the test set: {}\".format(acc))\n",
    "print(\"Balanced Accuracy on the test set: {}\".format(balanced_accuracy_score(y[int(0.7*n_samples):], np.round(y_pred))))"
   ]
  },
  {
   "cell_type": "markdown",
   "metadata": {},
   "source": [
    "A single tree is not capable of beating the logistic regression model. Will a combination of these?\n",
    "\n",
    "## Ensembling\n",
    "\n",
    "### Bagging\n",
    "Let's try first with a simple bag of trees"
   ]
  },
  {
   "cell_type": "code",
   "execution_count": 9,
   "metadata": {},
   "outputs": [
    {
     "name": "stderr",
     "output_type": "stream",
     "text": [
      "100%|███████████████████████████████████████████████████████████████████████████████████| 5/5 [16:34<00:00, 198.66s/it]\n"
     ]
    },
    {
     "name": "stdout",
     "output_type": "stream",
     "text": [
      "Cross-Validation accuracy: 0.940\n"
     ]
    }
   ],
   "source": [
    "# Create the model\n",
    "base_tree = DecisionTreeClassifier(max_depth=10, min_impurity=0.1)\n",
    "bag_trees = BaggingClassifier(base_tree, n_models=30)\n",
    "\n",
    "# Validate\n",
    "acc = cross_validate(bag_trees, 5)\n",
    "print(\"Cross-Validation accuracy: %.3f\" % acc)"
   ]
  },
  {
   "cell_type": "code",
   "execution_count": null,
   "metadata": {},
   "outputs": [],
   "source": []
  }
 ],
 "metadata": {
  "kernelspec": {
   "display_name": "Python 3",
   "language": "python",
   "name": "python3"
  },
  "language_info": {
   "codemirror_mode": {
    "name": "ipython",
    "version": 3
   },
   "file_extension": ".py",
   "mimetype": "text/x-python",
   "name": "python",
   "nbconvert_exporter": "python",
   "pygments_lexer": "ipython3",
   "version": "3.7.0"
  }
 },
 "nbformat": 4,
 "nbformat_minor": 2
}
